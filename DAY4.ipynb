{
  "nbformat": 4,
  "nbformat_minor": 0,
  "metadata": {
    "colab": {
      "provenance": [],
      "authorship_tag": "ABX9TyMryyd4/keI/zfIOquZf5yI",
      "include_colab_link": true
    },
    "kernelspec": {
      "name": "python3",
      "display_name": "Python 3"
    },
    "language_info": {
      "name": "python"
    }
  },
  "cells": [
    {
      "cell_type": "markdown",
      "metadata": {
        "id": "view-in-github",
        "colab_type": "text"
      },
      "source": [
        "<a href=\"https://colab.research.google.com/github/dheeraj0000/2216177_AIML_Bootcamp_2023/blob/main/DAY4.ipynb\" target=\"_parent\"><img src=\"https://colab.research.google.com/assets/colab-badge.svg\" alt=\"Open In Colab\"/></a>"
      ]
    },
    {
      "cell_type": "code",
      "execution_count": null,
      "metadata": {
        "colab": {
          "base_uri": "https://localhost:8080/"
        },
        "id": "H-K-ysiiaqRh",
        "outputId": "46968ec7-7b78-4f56-ce2d-3aa9484758dd"
      },
      "outputs": [
        {
          "name": "stdout",
          "output_type": "stream",
          "text": [
            "TRUE\n",
            "100\n",
            "false\n",
            "Enter age16\n"
          ]
        }
      ],
      "source": [
        "#decision making\n",
        "\n",
        "#if statement\n",
        "var=100\n",
        "if var>0:\n",
        "  print(\"TRUE\")\n",
        "  print(var)\n",
        "\n",
        "#if-else\n",
        "var=-1\n",
        "if var>0:\n",
        "  print(\"true\")\n",
        "else:\n",
        "  print(\"false\")\n",
        "\n",
        "#nested if statement\n",
        "age=int(input(\"Enter age\"))\n",
        "if age>0 and age<15:\n",
        "  if age>0 and age<=2:\n",
        "    print(\"free ticket\")\n",
        "  elif age>2 and age<=15:\n",
        "    print(\"half ticket\")\n",
        "  elif age>=15 and age<60:\n",
        "    print(\"full ticket\")\n",
        "  elif age>=60:\n",
        "    print(\"discounted ticket\")"
      ]
    },
    {
      "cell_type": "code",
      "source": [
        "#loops\n",
        "n=[1,2,3,4,5,6,7,8,9,10]\n",
        "for i in range(1,11):\n",
        "  print(i)\n",
        "sum=0\n",
        "for val in n:\n",
        "  sum=sum+val\n",
        "print(\"the sum is\",sum)\n",
        "\n",
        "for i in range(1,11,2):\n",
        "  print(i)"
      ],
      "metadata": {
        "colab": {
          "base_uri": "https://localhost:8080/"
        },
        "id": "kUoP52E2dqSE",
        "outputId": "d1232a69-9701-46ec-ce09-afa99ebdbd37"
      },
      "execution_count": null,
      "outputs": [
        {
          "output_type": "stream",
          "name": "stdout",
          "text": [
            "1\n",
            "2\n",
            "3\n",
            "4\n",
            "5\n",
            "6\n",
            "7\n",
            "8\n",
            "9\n",
            "10\n",
            "the sum is 55\n",
            "1\n",
            "3\n",
            "5\n",
            "7\n",
            "9\n"
          ]
        }
      ]
    },
    {
      "cell_type": "code",
      "source": [
        "#while loop\n",
        "count=1\n",
        "while(count<11):\n",
        "  print(count)\n",
        "  count=count+1\n"
      ],
      "metadata": {
        "colab": {
          "base_uri": "https://localhost:8080/"
        },
        "id": "ACzWXxjmhO6h",
        "outputId": "79d42928-711f-4b3c-8e2d-3465f69842c3"
      },
      "execution_count": null,
      "outputs": [
        {
          "output_type": "stream",
          "name": "stdout",
          "text": [
            "1\n",
            "2\n",
            "3\n",
            "4\n",
            "5\n",
            "6\n",
            "7\n",
            "8\n",
            "9\n",
            "10\n"
          ]
        }
      ]
    },
    {
      "cell_type": "code",
      "source": [
        "#nested loop\n",
        "#nested for\n",
        "x=[[12,7,3],[4,5,6],[7,8,6]]\n",
        "y=[[5,8,1],\n",
        "   [1,1,0],\n",
        "   [5,3,0]]\n",
        "res=[[0,0,0],[0,0,0],[0,0,0]]\n",
        "for i in range(len(x)):\n",
        "  for j in range(len(x[0])):\n",
        "    res[i][j]=x[i][j]+y[i][j]\n",
        "for r in res:\n",
        "  print(r)\n"
      ],
      "metadata": {
        "colab": {
          "base_uri": "https://localhost:8080/"
        },
        "id": "p1OyJag8iqPo",
        "outputId": "e5637b37-f15e-4f95-9479-73398c638a41"
      },
      "execution_count": null,
      "outputs": [
        {
          "output_type": "stream",
          "name": "stdout",
          "text": [
            "[17, 15, 4]\n",
            "[5, 6, 6]\n",
            "[12, 11, 6]\n"
          ]
        }
      ]
    },
    {
      "cell_type": "code",
      "source": [
        "#nested while loop\n",
        "n=int(input(\"enter untill which table you need\"))\n",
        "i=1\n",
        "while(i<=n):\n",
        "  print(f\"table{i}\")\n",
        "  j=1\n",
        "  while(j<=10):\n",
        "    print(f\"{i}*{j}={i*j}\")\n",
        "    j=j+1\n",
        "    print(\"---------------\")\n",
        "    i=i+1"
      ],
      "metadata": {
        "colab": {
          "base_uri": "https://localhost:8080/"
        },
        "id": "KOPCOPd-kYd_",
        "outputId": "46e02978-92f0-46a5-a3b6-6303b0741d11"
      },
      "execution_count": null,
      "outputs": [
        {
          "output_type": "stream",
          "name": "stdout",
          "text": [
            "enter untill which table you need3\n",
            "table1\n",
            "1*1=1\n",
            "---------------\n",
            "2*2=4\n",
            "---------------\n",
            "3*3=9\n",
            "---------------\n",
            "4*4=16\n",
            "---------------\n",
            "5*5=25\n",
            "---------------\n",
            "6*6=36\n",
            "---------------\n",
            "7*7=49\n",
            "---------------\n",
            "8*8=64\n",
            "---------------\n",
            "9*9=81\n",
            "---------------\n",
            "10*10=100\n",
            "---------------\n"
          ]
        }
      ]
    },
    {
      "cell_type": "code",
      "source": [
        "#control statement\n",
        "#break\n",
        "for q in \"python\":\n",
        "  if q==\"h\":\n",
        "    break\n",
        "  print(\"current letter\",q)\n",
        "\n",
        "#continue\n",
        "for q in \"python\":\n",
        "  if q==\"h\":\n",
        "    continue\n",
        "  print(\"current letter\",q)\n",
        "\n",
        "#pass\n",
        "for q in \"python\":\n",
        "  if q==\"h\":\n",
        "    pass\n",
        "    print(\"this is a pass block\")\n",
        "  print(\"current letter\",q)\n"
      ],
      "metadata": {
        "colab": {
          "base_uri": "https://localhost:8080/"
        },
        "id": "W029HWgolFij",
        "outputId": "404a69d4-e468-44d3-c1e7-1cf348b0b0ab"
      },
      "execution_count": null,
      "outputs": [
        {
          "output_type": "stream",
          "name": "stdout",
          "text": [
            "current letter p\n",
            "current letter y\n",
            "current letter t\n",
            "current letter p\n",
            "current letter y\n",
            "current letter t\n",
            "current letter o\n",
            "current letter n\n",
            "current letter p\n",
            "current letter y\n",
            "current letter t\n",
            "this is a pass block\n",
            "current letter h\n",
            "current letter o\n",
            "current letter n\n"
          ]
        }
      ]
    },
    {
      "cell_type": "code",
      "source": [
        "#functions\n",
        "def greet(name):\n",
        "  '''this function greets a person'''\n",
        "  print(\"HELLO\\t\"+name+ \"\\t good morning\")\n",
        "greet(\"dheeraj\")"
      ],
      "metadata": {
        "colab": {
          "base_uri": "https://localhost:8080/"
        },
        "id": "mCw4tsuMmsKf",
        "outputId": "78574c49-ca5f-4009-91fb-c50c51e2869f"
      },
      "execution_count": null,
      "outputs": [
        {
          "output_type": "stream",
          "name": "stdout",
          "text": [
            "HELLO\tdheeraj\t good morning\n"
          ]
        }
      ]
    },
    {
      "cell_type": "code",
      "source": [
        "#default\n",
        "def A(a,b=1,c=2):\n",
        "  return a+b+c \n",
        "print(A(3))\n",
        "print(A(4,4,4))"
      ],
      "metadata": {
        "colab": {
          "base_uri": "https://localhost:8080/"
        },
        "id": "Yye1VXWYn6wv",
        "outputId": "3775a270-43b1-42f8-d8b6-7e65858b1894"
      },
      "execution_count": null,
      "outputs": [
        {
          "output_type": "stream",
          "name": "stdout",
          "text": [
            "6\n",
            "12\n"
          ]
        }
      ]
    },
    {
      "cell_type": "code",
      "source": [
        "#keyword\n",
        "def A(a,b=1,c=2):\n",
        "  return a+b+c \n",
        "print(A(a=2,b=3))\n",
        "print(A(c=3,a=1,b=2))\n"
      ],
      "metadata": {
        "colab": {
          "base_uri": "https://localhost:8080/"
        },
        "id": "SzprEomJoq2i",
        "outputId": "cec54b95-fd81-442c-a60c-2c8a2790213a"
      },
      "execution_count": null,
      "outputs": [
        {
          "output_type": "stream",
          "name": "stdout",
          "text": [
            "7\n",
            "6\n"
          ]
        }
      ]
    },
    {
      "cell_type": "code",
      "source": [
        "#positional\n",
        "def A(a,b,c):\n",
        "  return a+b+c \n",
        "print(A(10,20,30))"
      ],
      "metadata": {
        "colab": {
          "base_uri": "https://localhost:8080/"
        },
        "id": "Qq61GVo_pK2y",
        "outputId": "dda2c7af-3c48-4c84-f078-9781dccc566c"
      },
      "execution_count": null,
      "outputs": [
        {
          "output_type": "stream",
          "name": "stdout",
          "text": [
            "60\n"
          ]
        }
      ]
    },
    {
      "cell_type": "code",
      "source": [
        "#arbitary positional\n",
        "def add_num(*n):# *->multiple things \n",
        "  print(sum(n))\n",
        "add_num(1,2,3,4,5,6,7,8,9,10)"
      ],
      "metadata": {
        "colab": {
          "base_uri": "https://localhost:8080/",
          "height": 335
        },
        "id": "Y_AO7M-5pbs3",
        "outputId": "a917d005-0c4f-4ecc-afab-2b945996e801"
      },
      "execution_count": null,
      "outputs": [
        {
          "output_type": "error",
          "ename": "TypeError",
          "evalue": "ignored",
          "traceback": [
            "\u001b[0;31m---------------------------------------------------------------------------\u001b[0m",
            "\u001b[0;31mTypeError\u001b[0m                                 Traceback (most recent call last)",
            "\u001b[0;32m<ipython-input-27-cd642af814a3>\u001b[0m in \u001b[0;36m<module>\u001b[0;34m\u001b[0m\n\u001b[1;32m      4\u001b[0m \u001b[0;34m\u001b[0m\u001b[0m\n\u001b[1;32m      5\u001b[0m \u001b[0;34m\u001b[0m\u001b[0m\n\u001b[0;32m----> 6\u001b[0;31m \u001b[0madd_num\u001b[0m\u001b[0;34m(\u001b[0m\u001b[0;36m1\u001b[0m\u001b[0;34m,\u001b[0m\u001b[0;36m2\u001b[0m\u001b[0;34m,\u001b[0m\u001b[0;36m3\u001b[0m\u001b[0;34m,\u001b[0m\u001b[0;36m4\u001b[0m\u001b[0;34m,\u001b[0m\u001b[0;36m5\u001b[0m\u001b[0;34m,\u001b[0m\u001b[0;36m6\u001b[0m\u001b[0;34m,\u001b[0m\u001b[0;36m7\u001b[0m\u001b[0;34m,\u001b[0m\u001b[0;36m8\u001b[0m\u001b[0;34m,\u001b[0m\u001b[0;36m9\u001b[0m\u001b[0;34m,\u001b[0m\u001b[0;36m10\u001b[0m\u001b[0;34m)\u001b[0m\u001b[0;34m\u001b[0m\u001b[0;34m\u001b[0m\u001b[0m\n\u001b[0m",
            "\u001b[0;32m<ipython-input-27-cd642af814a3>\u001b[0m in \u001b[0;36madd_num\u001b[0;34m(*n)\u001b[0m\n\u001b[1;32m      1\u001b[0m \u001b[0;31m#arbitary positional\u001b[0m\u001b[0;34m\u001b[0m\u001b[0;34m\u001b[0m\u001b[0;34m\u001b[0m\u001b[0m\n\u001b[1;32m      2\u001b[0m \u001b[0;32mdef\u001b[0m \u001b[0madd_num\u001b[0m\u001b[0;34m(\u001b[0m\u001b[0;34m*\u001b[0m\u001b[0mn\u001b[0m\u001b[0;34m)\u001b[0m\u001b[0;34m:\u001b[0m\u001b[0;34m\u001b[0m\u001b[0;34m\u001b[0m\u001b[0m\n\u001b[0;32m----> 3\u001b[0;31m   \u001b[0mprint\u001b[0m\u001b[0;34m(\u001b[0m\u001b[0msum\u001b[0m\u001b[0;34m(\u001b[0m\u001b[0mn\u001b[0m\u001b[0;34m)\u001b[0m\u001b[0;34m)\u001b[0m\u001b[0;34m\u001b[0m\u001b[0;34m\u001b[0m\u001b[0m\n\u001b[0m\u001b[1;32m      4\u001b[0m \u001b[0;34m\u001b[0m\u001b[0m\n\u001b[1;32m      5\u001b[0m \u001b[0;34m\u001b[0m\u001b[0m\n",
            "\u001b[0;31mTypeError\u001b[0m: 'int' object is not callable"
          ]
        }
      ]
    },
    {
      "cell_type": "code",
      "source": [
        "#arbitrary keywords\n",
        "def key_args(**kwargs):\n",
        "  return kwargs\n",
        "myd=key_args(apples=30,bananas=40,cherries=30)\n",
        "print(myd['apples'])\n",
        "print(myd)"
      ],
      "metadata": {
        "colab": {
          "base_uri": "https://localhost:8080/"
        },
        "id": "Hi3JMGIOpqLU",
        "outputId": "5089d5ea-9acd-48b3-f322-eed74f4a0368"
      },
      "execution_count": null,
      "outputs": [
        {
          "output_type": "stream",
          "name": "stdout",
          "text": [
            "30\n",
            "{'apples': 30, 'bananas': 40, 'cherries': 30}\n"
          ]
        }
      ]
    }
  ]
}