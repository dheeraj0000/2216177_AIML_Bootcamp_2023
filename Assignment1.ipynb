{
  "nbformat": 4,
  "nbformat_minor": 0,
  "metadata": {
    "colab": {
      "provenance": [],
      "authorship_tag": "ABX9TyPhQ7YW8vjeS3qlrdQFOhb9",
      "include_colab_link": true
    },
    "kernelspec": {
      "name": "python3",
      "display_name": "Python 3"
    },
    "language_info": {
      "name": "python"
    }
  },
  "cells": [
    {
      "cell_type": "markdown",
      "metadata": {
        "id": "view-in-github",
        "colab_type": "text"
      },
      "source": [
        "<a href=\"https://colab.research.google.com/github/dheeraj0000/2216177_AIML_Bootcamp_2023/blob/main/Assignment1.ipynb\" target=\"_parent\"><img src=\"https://colab.research.google.com/assets/colab-badge.svg\" alt=\"Open In Colab\"/></a>"
      ]
    },
    {
      "cell_type": "code",
      "source": [
        "#1)\n",
        "#string\n",
        "str=\"dheeraj\"\n",
        "#indexing\n",
        "print(str[0])\n",
        "print(str[-1])\n",
        "print(str[0:5])\n",
        "print(str[0:5:2])\n",
        "#reverse a string\n",
        "print(str[::-1])\n",
        "#string methods\n",
        "my_str=\"I am teaching python\"\n",
        "print(my_str.upper())\n",
        "print(my_str.lower())\n",
        "print(my_str.swapcase())\n",
        "print(my_str.lstrip())\n",
        "#string operations\n",
        "str1=\"hello\"\n",
        "str2=\"world\"\n",
        "print(str1+str2)\n",
        "print(str1+str1)\n",
        "#Comparing string\n",
        "str1 = \"Hello, world!\"\n",
        "str2 = \"I love Python\"\n",
        "print(str1==str2)"
      ],
      "metadata": {
        "colab": {
          "base_uri": "https://localhost:8080/"
        },
        "id": "ChwSqR61lyjq",
        "outputId": "0e9ab1dc-0b15-4698-8fdb-f9f234207e50"
      },
      "execution_count": null,
      "outputs": [
        {
          "output_type": "stream",
          "name": "stdout",
          "text": [
            "d\n",
            "j\n",
            "dheer\n",
            "der\n",
            "jareehd\n",
            "I AM TEACHING PYTHON\n",
            "i am teaching python\n",
            "i AM TEACHING PYTHON\n",
            "I am teaching python\n",
            "helloworld\n",
            "hellohello\n",
            "False\n"
          ]
        }
      ]
    },
    {
      "cell_type": "code",
      "source": [
        "#2)\n",
        "#Lists\n",
        "my_list=[1,2,3,4]\n",
        "my_list1=[1,'hello','3.0']\n",
        "my_list2=['apple','banana','cherry',]\n",
        "\n",
        "#indexing\n",
        "print(my_list[2])\n",
        "print(my_list1[-1])\n",
        "print(my_list[:3])\n",
        "#nested list\n",
        "N_list=[\"dargonfruit\",\"hi\",my_list,my_list[1]]\n",
        "#list methods\n",
        "my_list.append(5)\n",
        "print(my_list)\n",
        "l1=[3,6,9,12,34,4,5,6,9]\n",
        "print(l1.count(4))\n",
        "print(len(l1))\n",
        "print(l1[::-1])\n",
        "l1.reverse()\n",
        "print(l1)\n",
        "l1.sort()\n",
        "print(l1)"
      ],
      "metadata": {
        "colab": {
          "base_uri": "https://localhost:8080/"
        },
        "id": "mTiuN7ZxmwvJ",
        "outputId": "51f9ab9f-9da9-472d-cb4f-4666e8c5bbc4"
      },
      "execution_count": null,
      "outputs": [
        {
          "output_type": "stream",
          "name": "stdout",
          "text": [
            "3\n",
            "3.0\n",
            "[1, 2, 3]\n",
            "[1, 2, 3, 4, 5]\n",
            "1\n",
            "9\n",
            "[9, 6, 5, 4, 34, 12, 9, 6, 3]\n",
            "[9, 6, 5, 4, 34, 12, 9, 6, 3]\n",
            "[3, 4, 5, 6, 6, 9, 9, 12, 34]\n"
          ]
        }
      ]
    },
    {
      "cell_type": "code",
      "source": [
        "#3)\n",
        "#Tuples\n",
        "my_tup=(1,2,3,4)\n",
        "my_tup1=(\"hi\",1.1,5)\n",
        "N_tup=(\"hello\",my_tup,my_tup1)\n",
        "print(N_tup[-1][-1])\n",
        "#tuple methods\n",
        "print(my_tup.count(1))\n",
        "print(my_tup.index(2))\n",
        "print(max(my_tup))\n",
        "print(min(my_tup))\n",
        "print(my_tup[1:4])\n",
        "print(my_tup[:-7])\n",
        "print(my_tup[7:])\n",
        "print(my_tup[:])"
      ],
      "metadata": {
        "colab": {
          "base_uri": "https://localhost:8080/"
        },
        "id": "H02N7C_TnMYW",
        "outputId": "1c403cb4-6237-43ad-a6b1-d20b921605c8"
      },
      "execution_count": null,
      "outputs": [
        {
          "output_type": "stream",
          "name": "stdout",
          "text": [
            "5\n",
            "1\n",
            "1\n",
            "4\n",
            "1\n",
            "(2, 3, 4)\n",
            "()\n",
            "()\n",
            "(1, 2, 3, 4)\n"
          ]
        }
      ]
    },
    {
      "cell_type": "code",
      "source": [
        "#4)\n",
        "#dictionary\n",
        "my_dict={'name':'grandsteller',102:'english'}\n",
        "print(my_dict)\n",
        "capital_city = {\"Nepal\": \"Kathmandu\", \"England\": \"London\"}\n",
        "print(\"Initial Dictionary: \",capital_city)\n",
        "\n",
        "capital_city[\"Japan\"] = \"Tokyo\"\n",
        "\n",
        "print(\"Updated Dictionary: \",capital_city)\n",
        "student_id = {111: \"Eric\", 112: \"Kyle\", 113: \"Butters\"}\n",
        "print(\"Initial Dictionary: \", student_id)\n",
        "del student_id[111]\n",
        "print(\"Updated Dictionary \", student_id)"
      ],
      "metadata": {
        "colab": {
          "base_uri": "https://localhost:8080/"
        },
        "id": "sf8pcBSIoDUm",
        "outputId": "affebdc5-67f6-4d5a-a705-a64d60e5e9b1"
      },
      "execution_count": null,
      "outputs": [
        {
          "output_type": "stream",
          "name": "stdout",
          "text": [
            "{'name': 'grandsteller', 102: 'english'}\n",
            "Initial Dictionary:  {'Nepal': 'Kathmandu', 'England': 'London'}\n",
            "Updated Dictionary:  {'Nepal': 'Kathmandu', 'England': 'London', 'Japan': 'Tokyo'}\n",
            "Initial Dictionary:  {111: 'Eric', 112: 'Kyle', 113: 'Butters'}\n",
            "Updated Dictionary  {112: 'Kyle', 113: 'Butters'}\n"
          ]
        }
      ]
    },
    {
      "cell_type": "code",
      "source": [
        "#5)\n",
        "#sets\n",
        "my_set=(1,2,3,4)\n",
        "my_set1=(\"hi\",1.1,5)\n",
        "l=[1,2,3,4]\n",
        "print(l)\n",
        "\n",
        "#set operation\n",
        "a={1,2,3,4}\n",
        "b={4,5,6,7}\n",
        "print(a|b)\n",
        "print(a.union(b))\n",
        "print(b.union(a))\n",
        "\n",
        "print(a&b)\n",
        "print(a.intersection(b))\n",
        "print(b.intersection(a))\n",
        "\n",
        "print(a-b)\n",
        "print(a.difference(b))\n",
        "print(b.difference(a))"
      ],
      "metadata": {
        "colab": {
          "base_uri": "https://localhost:8080/"
        },
        "id": "7yH-KLK_o2Co",
        "outputId": "0ffd0a72-7ea3-4ce7-c6aa-b60eaaef0d7a"
      },
      "execution_count": null,
      "outputs": [
        {
          "output_type": "stream",
          "name": "stdout",
          "text": [
            "[1, 2, 3, 4]\n",
            "{1, 2, 3, 4, 5, 6, 7}\n",
            "{1, 2, 3, 4, 5, 6, 7}\n",
            "{1, 2, 3, 4, 5, 6, 7}\n",
            "{4}\n",
            "{4}\n",
            "{4}\n",
            "{1, 2, 3}\n",
            "{1, 2, 3}\n",
            "{5, 6, 7}\n"
          ]
        }
      ]
    },
    {
      "cell_type": "code",
      "source": [
        "#6)\n",
        "x=22\n",
        "print(bin(x))\n",
        "print(hex(x))\n",
        "print(oct(x))"
      ],
      "metadata": {
        "id": "8RbUGEO9WcBY",
        "colab": {
          "base_uri": "https://localhost:8080/"
        },
        "outputId": "ef4902b3-d3b4-4702-9cc0-11f4c3e38f88"
      },
      "execution_count": null,
      "outputs": [
        {
          "output_type": "stream",
          "name": "stdout",
          "text": [
            "0b10110\n",
            "0x16\n",
            "0o26\n"
          ]
        }
      ]
    },
    {
      "cell_type": "code",
      "source": [
        "#7)\n",
        "#Arithmetic operator\n",
        "a=3\n",
        "b=2\n",
        "print(a+b)\n",
        "print(a-b)\n",
        "print(a*b)\n",
        "print(a/b)\n",
        "print(a%b)\n",
        "print(a**b)\n",
        "print(a//b)\n"
      ],
      "metadata": {
        "colab": {
          "base_uri": "https://localhost:8080/"
        },
        "id": "z6H9O5W3o9Tb",
        "outputId": "a968405e-837a-4e3f-c8ac-d2a6fa72c912"
      },
      "execution_count": null,
      "outputs": [
        {
          "output_type": "stream",
          "name": "stdout",
          "text": [
            "5\n",
            "1\n",
            "6\n",
            "1.5\n",
            "1\n",
            "9\n",
            "1\n"
          ]
        }
      ]
    },
    {
      "cell_type": "code",
      "source": [
        "#8)\n",
        "#assignment operator\n",
        "a=10\n",
        "b=5\n",
        "c=a+b\n",
        "print(c)\n",
        "c-=a\n",
        "print(c)\n",
        "a += b\n",
        "print(a)\n",
        "a*=b\n",
        "print(a)\n",
        "a/=b\n",
        "print(a)\n",
        "a%=b\n",
        "print(a)\n",
        "a//=b\n",
        "print(a)"
      ],
      "metadata": {
        "colab": {
          "base_uri": "https://localhost:8080/"
        },
        "id": "283-jsuHpXnc",
        "outputId": "441f7578-8628-4415-ff90-df444277a8ba"
      },
      "execution_count": null,
      "outputs": [
        {
          "output_type": "stream",
          "name": "stdout",
          "text": [
            "15\n",
            "5\n",
            "15\n",
            "75\n",
            "15.0\n",
            "0.0\n",
            "0.0\n"
          ]
        }
      ]
    },
    {
      "cell_type": "code",
      "source": [
        "#9)\n",
        "#comparsion operateor\n",
        "a=2\n",
        "b=3\n",
        "a>=b\n",
        "print(a)\n",
        "a==b\n",
        "print(a)\n",
        "a<=b\n",
        "print(a)\n",
        "a<<b\n",
        "print(a)\n",
        "a>>b\n",
        "print(a)\n",
        "a!=b\n",
        "print(a)"
      ],
      "metadata": {
        "colab": {
          "base_uri": "https://localhost:8080/"
        },
        "id": "6FhpS_l4qSyR",
        "outputId": "7d6f2d69-8d7d-4cad-b7b9-65c93a35f568"
      },
      "execution_count": null,
      "outputs": [
        {
          "output_type": "stream",
          "name": "stdout",
          "text": [
            "2\n",
            "2\n",
            "2\n",
            "2\n",
            "2\n",
            "2\n"
          ]
        }
      ]
    },
    {
      "cell_type": "code",
      "source": [
        "#10)\n",
        "#logical operator\n",
        "x=True\n",
        "y=False\n",
        "print('x and y is:',x and y)\n",
        "print('x or y is:',x or y)\n",
        "print('x not y is:',not y)"
      ],
      "metadata": {
        "colab": {
          "base_uri": "https://localhost:8080/"
        },
        "id": "COhP0R3aqfMu",
        "outputId": "62560664-e652-4224-ea74-9be13568ecb2"
      },
      "execution_count": null,
      "outputs": [
        {
          "output_type": "stream",
          "name": "stdout",
          "text": [
            "x and y is: False\n",
            "x or y is: True\n",
            "x not y is: True\n"
          ]
        }
      ]
    },
    {
      "cell_type": "code",
      "source": [
        "#11)\n",
        "#Bitwise operator\n",
        "a=13\n",
        "b=14\n",
        "print(a&b)\n",
        "print(a|b)\n",
        "print(~a)\n",
        "print(a^b)\n",
        "print(a>>2)\n",
        "print(a<<2)"
      ],
      "metadata": {
        "colab": {
          "base_uri": "https://localhost:8080/"
        },
        "id": "Qii-l3eQqxlQ",
        "outputId": "36475767-5810-4f30-d409-e5c88d3f50ea"
      },
      "execution_count": null,
      "outputs": [
        {
          "output_type": "stream",
          "name": "stdout",
          "text": [
            "12\n",
            "15\n",
            "-14\n",
            "3\n",
            "3\n",
            "52\n"
          ]
        }
      ]
    },
    {
      "cell_type": "code",
      "source": [
        "#12)\n",
        "#membership operator\n",
        "x='hello world'\n",
        "print('w' in x)\n",
        "a = 10\n",
        "b = 20\n",
        "list = [1, 2, 3, 4, 5 ];\n",
        "\n",
        "if ( a in list ):\n",
        "   print (\"Line 1\")\n",
        "else:\n",
        "   print (\"Line 1!\")\n",
        "\n",
        "if ( b not in list ):\n",
        "   print (\"Line 2\")\n",
        "else:\n",
        "   print (\"Line 2!\")\n",
        "\n",
        "a = 2\n",
        "if ( a in list ):\n",
        "   print (\"Line 3\")\n",
        "else:\n",
        "   print (\"Line 3 !\")"
      ],
      "metadata": {
        "colab": {
          "base_uri": "https://localhost:8080/"
        },
        "id": "z2U3Tbi_q6FC",
        "outputId": "8eeaed2f-2ec3-428d-c17e-d4b464951872"
      },
      "execution_count": null,
      "outputs": [
        {
          "output_type": "stream",
          "name": "stdout",
          "text": [
            "True\n",
            "Line 1!\n",
            "Line 2\n",
            "Line 3\n"
          ]
        }
      ]
    },
    {
      "cell_type": "code",
      "source": [
        "#13)\n",
        "#identity operator\n",
        "x1=5\n",
        "y1=5\n",
        "x2='hello'\n",
        "y2=\"hello\"\n",
        "x3=[1,2,3]\n",
        "y3=[1,2,3]\n",
        "print(x1 is not y1)\n",
        "print(x2 is  y2)\n",
        "print(x3 is y3)"
      ],
      "metadata": {
        "colab": {
          "base_uri": "https://localhost:8080/"
        },
        "id": "lxvxtTVqrsci",
        "outputId": "b7d2c2da-c3b6-4533-c3e9-bf6e72be9a5b"
      },
      "execution_count": null,
      "outputs": [
        {
          "output_type": "stream",
          "name": "stdout",
          "text": [
            "False\n",
            "True\n",
            "False\n"
          ]
        }
      ]
    },
    {
      "cell_type": "code",
      "source": [
        "#14)negative indexing for list and applying silcing\n",
        "list= [5,2,9,7,5,8,1,4,3]\n",
        "print(list[::-1])\n",
        "print(list[0:6])\n",
        "print(list[1:9:2])\n",
        "print(list[-1:-5:-2])"
      ],
      "metadata": {
        "colab": {
          "base_uri": "https://localhost:8080/"
        },
        "id": "QWCE1cX9ryNG",
        "outputId": "b4245eb0-0a8b-4542-e4a4-57b9dca37cd1"
      },
      "execution_count": null,
      "outputs": [
        {
          "output_type": "stream",
          "name": "stdout",
          "text": [
            "[3, 4, 1, 8, 5, 7, 9, 2, 5]\n",
            "[5, 2, 9, 7, 5, 8]\n",
            "[2, 7, 8, 4]\n",
            "[3, 1]\n"
          ]
        }
      ]
    },
    {
      "cell_type": "code",
      "execution_count": null,
      "metadata": {
        "colab": {
          "base_uri": "https://localhost:8080/"
        },
        "id": "Chw1-urgQ9Dy",
        "outputId": "17194876-d269-4eb4-fbcc-4112138b3651"
      },
      "outputs": [
        {
          "output_type": "stream",
          "name": "stdout",
          "text": [
            "taawkcbe  tgerca  is\n",
            "----------\n",
            "ot emoc\n"
          ]
        }
      ],
      "source": [
        "#15)\n",
        "print('A series of character designated as one object known as a string'[::-1][4::3])\n",
        "print('----------')\n",
        "print('Welcome to python traing program'[3:10][::-1])"
      ]
    },
    {
      "cell_type": "code",
      "source": [
        "#16)\n",
        "P_phrase=\"was it a car or a cat I saw\"\n",
        "print(P_phrase[::-1].upper())"
      ],
      "metadata": {
        "colab": {
          "base_uri": "https://localhost:8080/"
        },
        "id": "KmWCaiU5S5rH",
        "outputId": "b0b79254-be75-41c2-9104-323f0b21caa6"
      },
      "execution_count": null,
      "outputs": [
        {
          "output_type": "stream",
          "name": "stdout",
          "text": [
            "WAS I TAC A RO RAC A TI SAW\n"
          ]
        }
      ]
    },
    {
      "cell_type": "code",
      "source": [
        "li=[\"Hii\",\"I am\",\"Attending\",\"Bootcamp\"]\n",
        "\n",
        "x=\",\".join(li)\n",
        "\n",
        "print(x)"
      ],
      "metadata": {
        "id": "8oej7wV3aPDe",
        "colab": {
          "base_uri": "https://localhost:8080/"
        },
        "outputId": "caf25354-3863-40a4-91a6-ec067167f3ab"
      },
      "execution_count": null,
      "outputs": [
        {
          "output_type": "stream",
          "name": "stdout",
          "text": [
            "Hii,I am,Attending,Bootcamp\n"
          ]
        }
      ]
    },
    {
      "cell_type": "code",
      "source": [
        "#ascii\n",
        "n=input()\n",
        "print(ord(n))"
      ],
      "metadata": {
        "id": "fCqgG3J1dYV1",
        "colab": {
          "base_uri": "https://localhost:8080/"
        },
        "outputId": "630d8161-8b0c-48d6-b6bb-81374cd6b82c"
      },
      "execution_count": null,
      "outputs": [
        {
          "output_type": "stream",
          "name": "stdout",
          "text": [
            "A\n",
            "65\n"
          ]
        }
      ]
    },
    {
      "cell_type": "code",
      "source": [
        "#17)\n",
        "x=int(input())\n",
        "y=2*x\n",
        "print('Z'*x+'O'*y)"
      ],
      "metadata": {
        "id": "4nSljkCEsIej",
        "colab": {
          "base_uri": "https://localhost:8080/"
        },
        "outputId": "e622c6ff-8a7a-47c1-aa3d-712669789f30"
      },
      "execution_count": 65,
      "outputs": [
        {
          "output_type": "stream",
          "name": "stdout",
          "text": [
            "2\n",
            "ZZOOOO\n"
          ]
        }
      ]
    },
    {
      "cell_type": "code",
      "source": [],
      "metadata": {
        "id": "Igyc8QKIvb1W"
      },
      "execution_count": null,
      "outputs": []
    }
  ]
}