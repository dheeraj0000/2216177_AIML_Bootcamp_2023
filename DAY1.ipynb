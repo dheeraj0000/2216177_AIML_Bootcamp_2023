{
  "nbformat": 4,
  "nbformat_minor": 0,
  "metadata": {
    "colab": {
      "provenance": []
    },
    "kernelspec": {
      "name": "python3",
      "display_name": "Python 3"
    },
    "language_info": {
      "name": "python"
    }
  },
  "cells": [
    {
      "cell_type": "code",
      "execution_count": 15,
      "metadata": {
        "colab": {
          "base_uri": "https://localhost:8080/"
        },
        "id": "caIddQ_h78mn",
        "outputId": "155e64fc-2238-4c32-b152-17dfe6319407"
      },
      "outputs": [
        {
          "output_type": "stream",
          "name": "stdout",
          "text": [
            "100 100.0 hi dheeraj\n",
            "20.0\n",
            "5.0\n"
          ]
        }
      ],
      "source": [
        "a=100\n",
        "amount=100.0\n",
        "str1=\"hi\"\n",
        "str2=\"dheeraj\"\n",
        "\"\"\"This is a docstring\"\"\"\n",
        "comp=20+5j\n",
        "print(a,amount,str1,str2)\n",
        "print(comp.real)\n",
        "print(comp.imag)"
      ]
    },
    {
      "cell_type": "code",
      "source": [
        "a=100\n",
        "b=1+2j\n",
        "\n",
        "amount=100.0\n",
        "\n",
        "str1=\"hi\"\n",
        "\n",
        "li=[1,2,3,4]\n",
        "tuple=(1,2,3,4)\n",
        "\n",
        "set1={1,2,3,4}\n",
        "\n",
        "my_dict={\"apple\":\"red\"}\n",
        "\n",
        "x=None\n",
        "\n",
        "x=b\"hello\"\n",
        "x=bytearray(5)\n",
        "x=memoryview(bytes(4))"
      ],
      "metadata": {
        "id": "5ZFDXQD9_P_q"
      },
      "execution_count": 9,
      "outputs": []
    },
    {
      "cell_type": "code",
      "source": [
        "b=2\n",
        "c=7.0\n",
        "d=int(c)\n",
        "e=float(b)\n",
        "print(d,e)\n",
        "#implicit fuction\n",
        "f=4\n",
        "g=3.0\n",
        "h=print(f+g)\n",
        "\n",
        "i=\"hello\"\n",
        "s1=str(i)\n",
        "print(s1)\n",
        "j=str(s1)\n",
        "print(j)"
      ],
      "metadata": {
        "colab": {
          "base_uri": "https://localhost:8080/"
        },
        "id": "-sjASB0p_QZ7",
        "outputId": "d2ec5ae5-7ad4-43be-fc0a-6256fc20c8e8"
      },
      "execution_count": 5,
      "outputs": [
        {
          "output_type": "stream",
          "name": "stdout",
          "text": [
            "7 2.0\n",
            "7.0\n",
            "hello\n",
            "hello\n"
          ]
        }
      ]
    },
    {
      "cell_type": "code",
      "source": [],
      "metadata": {
        "id": "Rv_3czTZAkW6"
      },
      "execution_count": null,
      "outputs": []
    }
  ]
}