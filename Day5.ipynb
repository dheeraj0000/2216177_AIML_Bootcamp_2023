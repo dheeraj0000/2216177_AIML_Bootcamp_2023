{
  "nbformat": 4,
  "nbformat_minor": 0,
  "metadata": {
    "colab": {
      "provenance": [],
      "authorship_tag": "ABX9TyMu4jFkX+kbsaIjTwyx6akC",
      "include_colab_link": true
    },
    "kernelspec": {
      "name": "python3",
      "display_name": "Python 3"
    },
    "language_info": {
      "name": "python"
    }
  },
  "cells": [
    {
      "cell_type": "markdown",
      "metadata": {
        "id": "view-in-github",
        "colab_type": "text"
      },
      "source": [
        "<a href=\"https://colab.research.google.com/github/dheeraj0000/2216177_AIML_Bootcamp_2023/blob/main/Day5.ipynb\" target=\"_parent\"><img src=\"https://colab.research.google.com/assets/colab-badge.svg\" alt=\"Open In Colab\"/></a>"
      ]
    },
    {
      "cell_type": "code",
      "execution_count": 4,
      "metadata": {
        "colab": {
          "base_uri": "https://localhost:8080/"
        },
        "id": "k8SUhtmW_FNQ",
        "outputId": "30e6b5d3-c629-475b-bf9e-8ae97c9e175e"
      },
      "outputs": [
        {
          "output_type": "stream",
          "name": "stdout",
          "text": [
            "5\n",
            "4\n"
          ]
        }
      ],
      "source": [
        "#lambda fuction\n",
        "def inc(x):\n",
        "  x=x+1\n",
        "  return x\n",
        "     #(or)\n",
        "print((lambda x:x+1)(4))\n",
        "\n",
        "print((lambda x,y:x**y)(2,2))"
      ]
    },
    {
      "cell_type": "code",
      "source": [
        "li=[1,2,3,4]\n",
        "def fun(num):\n",
        "  return num+2\n",
        "res_list=list(map(inc,li))\n",
        "print(res_list)\n",
        "#mapping\n",
        "print(list(map(lambda x:x+2,li)))\n",
        "\n",
        "li=['apples','bananas','cherries']\n",
        "print(list(map(lambda x:x.capitalize(),li)))\n",
        "\n",
        "def myfunc(n):\n",
        "  return lambda a : a * n\n",
        "mydoubler = myfunc(2)\n",
        "print(mydoubler(11))\n",
        "\n",
        "x=lambda a,b:a*b \n",
        "print(x(5,6))\n",
        "\n",
        "x=lambda a,b,c:a+b+c \n",
        "print(x(5,6,2))\n",
        "\n",
        "def eor(num):\n",
        "  if num%2==0:\n",
        "    return \"the number {} is even\".format(num)\n",
        "  else:\n",
        "    return \"the number {} is odd\".format(num)\n",
        "eor(20)\n",
        "\n",
        "#l2=[1,2,3,4,5,6,7,8,9,10]\n",
        "#list(map(eor,12))"
      ],
      "metadata": {
        "colab": {
          "base_uri": "https://localhost:8080/",
          "height": 145
        },
        "id": "I9BoNca4E8aS",
        "outputId": "13942c06-2f67-4d9c-bc07-6f2d20e302fc"
      },
      "execution_count": 19,
      "outputs": [
        {
          "output_type": "stream",
          "name": "stdout",
          "text": [
            "[2, 3, 4, 5]\n",
            "[3, 4, 5, 6]\n",
            "['Apples', 'Bananas', 'Cherries']\n",
            "22\n",
            "30\n",
            "13\n"
          ]
        },
        {
          "output_type": "execute_result",
          "data": {
            "text/plain": [
              "'the number 20 is even'"
            ],
            "application/vnd.google.colaboratory.intrinsic+json": {
              "type": "string"
            }
          },
          "metadata": {},
          "execution_count": 19
        }
      ]
    },
    {
      "cell_type": "code",
      "source": [
        "#filter\n",
        "def odd_num(n):\n",
        "  if n%2!=0:\n",
        "    return n\n",
        "my1=[3,4,9,12,343,15]\n",
        "print(list(filter(odd_num,my1)))\n",
        "\n",
        "my1=[3,4,9,12,343,15]\n",
        "print(list(filter(lambda x:x%2!=0,my1)))"
      ],
      "metadata": {
        "colab": {
          "base_uri": "https://localhost:8080/"
        },
        "id": "nlsC4xrZFsrq",
        "outputId": "fe2658ca-7c6b-42b8-95cb-e7c7a0f58fb0"
      },
      "execution_count": 21,
      "outputs": [
        {
          "output_type": "stream",
          "name": "stdout",
          "text": [
            "[3, 9, 343, 15]\n",
            "[3, 9, 343, 15]\n"
          ]
        }
      ]
    },
    {
      "cell_type": "code",
      "source": [
        "#object oriented program(oop) principles\n",
        "\n",
        "#class and object\n",
        "class c:\n",
        "  def add(self,a,b):\n",
        "    return a+b\n",
        "  def sub(self,a,b):\n",
        "    return a-b\n",
        " \n",
        "o=c()\n",
        "print(\"addition of two numbers is\",o.add(5,5))\n",
        "print(\"subtraction of two number is\",o.sub(10,5))"
      ],
      "metadata": {
        "colab": {
          "base_uri": "https://localhost:8080/"
        },
        "id": "jeaKfsuhI-AA",
        "outputId": "e4c961c2-b2c8-46f1-ef20-f3a6925769dc"
      },
      "execution_count": 24,
      "outputs": [
        {
          "output_type": "stream",
          "name": "stdout",
          "text": [
            "addition of two numbers is 10\n",
            "subtraction of two number is 5\n"
          ]
        }
      ]
    },
    {
      "cell_type": "code",
      "source": [
        "#inheritance\n",
        "#simple\n",
        "class Animal:\n",
        "  def animal_sounds(self):\n",
        "    return \"makes sound\"\n",
        "class cat(Animal):\n",
        "  def cat_sound(self):\n",
        "    return self.animal_sounds()+\" MEOW\"\n",
        "  def __str__(self):\n",
        "    return \"cat\"\n",
        "co=cat()\n",
        "print(co,co.cat_sound())"
      ],
      "metadata": {
        "colab": {
          "base_uri": "https://localhost:8080/"
        },
        "id": "fQTy5_d7MyBI",
        "outputId": "c7b4ffd7-318f-40ab-899d-0335e92e9f12"
      },
      "execution_count": 33,
      "outputs": [
        {
          "output_type": "stream",
          "name": "stdout",
          "text": [
            "cat makes sound MEOW\n"
          ]
        }
      ]
    },
    {
      "cell_type": "code",
      "source": [
        "#hierarchial inheritance\n",
        "class Animal:\n",
        "  def animal_sounds(self):\n",
        "    return \"makes sound\"\n",
        "class cat(Animal):\n",
        "  def cat_sound(self):\n",
        "    return self.animal_sounds()+\" MEOW\"\n",
        "  def __str__(self):\n",
        "    return \"cat\"\n",
        "class Animal:\n",
        "  def animal_sounds(self):\n",
        "    return \"makes sound\"\n",
        "class Dog(Animal):\n",
        "  def dog_sound(self):\n",
        "    return self.animal_sounds()+\" BOW\"\n",
        "  def __str__(self):\n",
        "    return \"Dog\"\n",
        "co=cat()\n",
        "do=Dog()\n",
        "print(co,co.cat_sound())\n",
        "print(do,do.dog_sound())"
      ],
      "metadata": {
        "colab": {
          "base_uri": "https://localhost:8080/"
        },
        "id": "P3GjuW7eOC7b",
        "outputId": "6201f823-8379-4c76-db1c-63c4073137fb"
      },
      "execution_count": 35,
      "outputs": [
        {
          "output_type": "stream",
          "name": "stdout",
          "text": [
            "cat makes sound MEOW\n",
            "Dog makes sound BOW\n"
          ]
        }
      ]
    },
    {
      "cell_type": "code",
      "source": [
        "#multilevel inheritance\n",
        "class Animal:\n",
        "  def animal_sounds(self):\n",
        "    return \"makes sound\"\n",
        "class cat(Animal):\n",
        "  def cat_sound(self):\n",
        "    return self.animal_sounds()+\" MEOW\"\n",
        "class catcolor(cat):\n",
        "  def __str__(self):\n",
        "    return \"cat\"\n",
        "  def color(self):\n",
        "    return \"color is black\"\n",
        "cc=catcolor()\n",
        "print(cc,cc.cat_sound())\n",
        "print(cc,cc.color())"
      ],
      "metadata": {
        "colab": {
          "base_uri": "https://localhost:8080/"
        },
        "id": "0Emb6MwtQnUC",
        "outputId": "3fe35e02-188f-400b-f32a-211e3eda12be"
      },
      "execution_count": 37,
      "outputs": [
        {
          "output_type": "stream",
          "name": "stdout",
          "text": [
            "cat makes sound MEOW\n",
            "cat color is black\n"
          ]
        }
      ]
    },
    {
      "cell_type": "code",
      "source": [],
      "metadata": {
        "id": "tpmx7vWmSM4X"
      },
      "execution_count": null,
      "outputs": []
    }
  ]
}