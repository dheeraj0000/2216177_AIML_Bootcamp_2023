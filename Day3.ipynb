{
  "nbformat": 4,
  "nbformat_minor": 0,
  "metadata": {
    "colab": {
      "provenance": [],
      "authorship_tag": "ABX9TyNS/rc7QPy1P7llJ1CgdFK4",
      "include_colab_link": true
    },
    "kernelspec": {
      "name": "python3",
      "display_name": "Python 3"
    },
    "language_info": {
      "name": "python"
    }
  },
  "cells": [
    {
      "cell_type": "markdown",
      "metadata": {
        "id": "view-in-github",
        "colab_type": "text"
      },
      "source": [
        "<a href=\"https://colab.research.google.com/github/dheeraj0000/2216177_AIML_Bootcamp_2023/blob/main/Day3.ipynb\" target=\"_parent\"><img src=\"https://colab.research.google.com/assets/colab-badge.svg\" alt=\"Open In Colab\"/></a>"
      ]
    },
    {
      "cell_type": "code",
      "execution_count": null,
      "metadata": {
        "colab": {
          "base_uri": "https://localhost:8080/"
        },
        "id": "xQ6Cg_cUJGso",
        "outputId": "16bd3a61-15c7-47e4-b706-eec87c8130e3"
      },
      "outputs": [
        {
          "output_type": "stream",
          "name": "stdout",
          "text": [
            "5\n",
            "1\n",
            "4\n",
            "1\n"
          ]
        }
      ],
      "source": [
        "#Tuples\n",
        "my_tup=(1,2,3,4)\n",
        "my_tup1=(\"hi\",1.1,5)\n",
        "N_tup=(\"hello\",my_tup,my_tup1)\n",
        "print(N_tup[-1][-1])\n",
        "#tuple methods\n",
        "#print(my_tup.count())\n",
        "print(my_tup.index(2))\n",
        "print(max(my_tup))\n",
        "print(min(my_tup))"
      ]
    },
    {
      "cell_type": "code",
      "source": [
        "#sets\n",
        "my_set=(1,2,3,4)\n",
        "my_set1=(\"hi\",1.1,5)\n",
        "l=[1,2,3,4]\n",
        "print(l)\n",
        "\n",
        "#set operation\n",
        "a={1,2,3,4}\n",
        "b={4,5,6,7}\n",
        "print(a|b)\n",
        "print(a.union(b))\n",
        "print(b.union(a))\n",
        "\n",
        "print(a&b)\n",
        "print(a.intersection(b))\n",
        "print(b.intersection(a))\n",
        "\n",
        "print(a-b)\n",
        "print(a.difference(b))\n",
        "print(b.difference(a))"
      ],
      "metadata": {
        "colab": {
          "base_uri": "https://localhost:8080/"
        },
        "id": "nyJ5MCGxLmkE",
        "outputId": "3d502054-dbb1-46c0-e99b-228efe7db661"
      },
      "execution_count": null,
      "outputs": [
        {
          "output_type": "stream",
          "name": "stdout",
          "text": [
            "[1, 2, 3, 4]\n",
            "{1, 2, 3, 4, 5, 6, 7}\n",
            "{1, 2, 3, 4, 5, 6, 7}\n",
            "{1, 2, 3, 4, 5, 6, 7}\n",
            "{4}\n",
            "{4}\n",
            "{4}\n",
            "{1, 2, 3}\n",
            "{1, 2, 3}\n",
            "{5, 6, 7}\n"
          ]
        }
      ]
    },
    {
      "cell_type": "code",
      "source": [
        "#dictionary\n",
        "my_dict={'name':'grandsteller',102:'english'}\n",
        "print(my_dict)"
      ],
      "metadata": {
        "colab": {
          "base_uri": "https://localhost:8080/"
        },
        "id": "VOVl_UwxOAg2",
        "outputId": "1b6dcc1e-f78f-40a3-b983-540d0e525d88"
      },
      "execution_count": null,
      "outputs": [
        {
          "output_type": "stream",
          "name": "stdout",
          "text": [
            "{'name': 'grandsteller', 102: 'english'}\n"
          ]
        }
      ]
    },
    {
      "cell_type": "code",
      "source": [],
      "metadata": {
        "id": "R8K0zPP_QzBK"
      },
      "execution_count": null,
      "outputs": []
    }
  ]
}